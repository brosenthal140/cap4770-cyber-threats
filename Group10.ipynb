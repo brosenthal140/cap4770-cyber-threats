{
  "cells": [
    {
      "cell_type": "markdown",
      "metadata": {
        "id": "7VUcFJ2Bibdc"
      },
      "source": [
        "# Classification Notebook"
      ]
    },
    {
      "cell_type": "code",
      "source": [
        "%pylab inline\n",
        "import kagglehub\n",
        "import pylab\n",
        "import sklearn\n",
        "from sklearn.utils import Bunch\n",
        "from scipy.io import loadmat\n",
        "import os\n",
        "\n",
        "# Cybersecurity data\n",
        "path = kagglehub.dataset_download(\"atharvasoundankar/global-cybersecurity-threats-2015-2024\")\n",
        "\n",
        "print(\"Path to dataset files:\", path)\n",
        "\n",
        "os.listdir(path)"
      ],
      "metadata": {
        "colab": {
          "base_uri": "https://localhost:8080/"
        },
        "id": "o3jMFwymiovf",
        "outputId": "fa6e3d08-12e5-44f3-b234-015443666e36"
      },
      "execution_count": 9,
      "outputs": [
        {
          "output_type": "stream",
          "name": "stdout",
          "text": [
            "Populating the interactive namespace from numpy and matplotlib\n"
          ]
        },
        {
          "output_type": "stream",
          "name": "stderr",
          "text": [
            "/usr/local/lib/python3.11/dist-packages/IPython/core/magics/pylab.py:159: UserWarning: pylab import has clobbered these variables: ['pylab']\n",
            "`%matplotlib` prevents importing * from pylab and numpy\n",
            "  warn(\"pylab import has clobbered these variables: %s\"  % clobbered +\n"
          ]
        },
        {
          "output_type": "stream",
          "name": "stdout",
          "text": [
            "Path to dataset files: /kaggle/input/global-cybersecurity-threats-2015-2024\n"
          ]
        },
        {
          "output_type": "execute_result",
          "data": {
            "text/plain": [
              "['Global_Cybersecurity_Threats_2015-2024.csv']"
            ]
          },
          "metadata": {},
          "execution_count": 9
        }
      ]
    }
  ],
  "metadata": {
    "kernelspec": {
      "display_name": "Python 3",
      "language": "python",
      "name": "python3"
    },
    "language_info": {
      "codemirror_mode": {
        "name": "ipython",
        "version": 3
      },
      "file_extension": ".py",
      "mimetype": "text/x-python",
      "name": "python",
      "nbconvert_exporter": "python",
      "pygments_lexer": "ipython3",
      "version": "3.6.9"
    },
    "colab": {
      "provenance": []
    }
  },
  "nbformat": 4,
  "nbformat_minor": 0
}